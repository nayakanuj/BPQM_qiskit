{
  "nbformat": 4,
  "nbformat_minor": 0,
  "metadata": {
    "colab": {
      "provenance": [],
      "toc_visible": true,
      "authorship_tag": "ABX9TyO2S5ymPlxZVQwrkTUGMz3M",
      "include_colab_link": true
    },
    "kernelspec": {
      "name": "python3",
      "display_name": "Python 3"
    },
    "language_info": {
      "name": "python"
    }
  },
  "cells": [
    {
      "cell_type": "markdown",
      "metadata": {
        "id": "view-in-github",
        "colab_type": "text"
      },
      "source": [
        "<a href=\"https://colab.research.google.com/github/nayakanuj/QAP/blob/main/BPQM_in_qiskit.ipynb\" target=\"_parent\"><img src=\"https://colab.research.google.com/assets/colab-badge.svg\" alt=\"Open In Colab\"/></a>"
      ]
    },
    {
      "cell_type": "markdown",
      "source": [
        "# **Belief Propagation with Quantum Messages in Qiskit.**\n",
        "\n",
        "This notebook is based on belief propagation with quantum messages for quantum-enhanced classical communication from the following paper:\n",
        "Rengaswamy, Narayanan, Kaushik P. Seshadreesan, Saikat Guha, and Henry D. Pfister. \"[Belief propagation with quantum messages for quantum-enhanced classical communications.](https://www.nature.com/articles/s41534-021-00422-1)\" npj Quantum Information 7.1 (2021): 97.\n",
        "\n",
        "The approach builds on the concept of belief propagation, which is a classical algorithm for computing marginal probabilities of a graphical model. It is a popular decoding technique for messages encoded using LDPC codes. The key idea of quantum belief propagation is to interpret message-combining of classical belief propagation as \"channel combining\" rules, which allows for quantum messages. Local inference is performed using suitable unitary operations, whose outputs are quantum messages.\n",
        "\n",
        "In this notebook, we will implement Belief Propagation with Quantum Messages in Qiskit."
      ],
      "metadata": {
        "id": "CtSPixpL05Op"
      }
    },
    {
      "cell_type": "code",
      "execution_count": null,
      "metadata": {
        "id": "4wQZdIwTwGkY"
      },
      "outputs": [],
      "source": [
        "!pip install qiskit\n",
        "!pip install pylatexenc"
      ]
    },
    {
      "cell_type": "code",
      "source": [
        "import numpy as np\n",
        "from qiskit import QuantumCircuit, QuantumRegister, ClassicalRegister\n",
        "import matplotlib.pyplot as plt\n",
        "from qiskit.visualization import *\n",
        "from qiskit.extensions import UnitaryGate\n",
        "from qiskit.quantum_info import *\n",
        "from qiskit import Aer\n",
        "from qiskit import execute\n",
        "from qiskit.visualization import plot_histogram\n",
        "from qiskit import transpile\n",
        "import qiskit.quantum_info as qi\n",
        "import pandas as pd\n",
        "import os\n",
        "%matplotlib inline"
      ],
      "metadata": {
        "id": "WZ8HZ5t-wdeo"
      },
      "execution_count": 48,
      "outputs": []
    },
    {
      "cell_type": "markdown",
      "source": [
        "# `Utils` class contains methods to obtain unitary matrices corresponding to **variable** and **factor node convolutions.**"
      ],
      "metadata": {
        "id": "yTlgza7md6Tq"
      }
    },
    {
      "cell_type": "code",
      "source": [
        "class Utils():\n",
        "    @staticmethod\n",
        "    def get_codebook():\n",
        "        cb = []\n",
        "        # parity_check_mtx = np.array([[1, 1, 1, 0, 0],\n",
        "        #                    [1, 0, 0, 1, 1]])\n",
        "        generator_mtx = np.array([[0, 0, 0, 1, 1],\n",
        "                                  [0, 1, 1, 0, 0],\n",
        "                                  [1, 0, 1, 0, 1]])\n",
        "        for ind_cwd in range(2 ** 3):\n",
        "            binary_digits = np.array([int(digit) for digit in np.binary_repr(ind_cwd, width=3)])\n",
        "            cb.append([x % 2 for x in binary_digits.T @ generator_mtx])\n",
        "\n",
        "        return cb\n",
        "\n",
        "    @staticmethod\n",
        "    def get_var_node_conv_unitary_matrix(theta1, theta2):\n",
        "\n",
        "        theta_p = (theta1 + theta2) / 2\n",
        "        theta_m = (theta1 - theta2) / 2\n",
        "\n",
        "        a = lambda sgn: (np.cos(theta_m) + sgn * np.cos(theta_p)) / np.sqrt(2 * (1 + np.cos(theta1) * np.cos(theta2)))\n",
        "        a_plus = a(1)\n",
        "        a_minus = a(-1)\n",
        "        b = lambda sgn: (np.sin(theta_p) - sgn * np.sin(theta_m)) / np.sqrt(2 * (1 - np.cos(theta1) * np.cos(theta2)))\n",
        "        b_plus = b(1)\n",
        "        b_minus = b(-1)\n",
        "\n",
        "        unitary_matrix = np.array([[a_plus, 0.0, 0.0, a_minus],\n",
        "                          [a_minus, 0.0, 0.0, -a_plus],\n",
        "                          [0.0, b_plus, b_minus, 0.0],\n",
        "                          [0.0, b_minus, -b_plus, 0.0]])\n",
        "\n",
        "        return unitary_matrix\n",
        "\n",
        "    @staticmethod\n",
        "    def apply_conditional_unitary_gate_U(qc, qr, theta0, theta1, inverse_flag=0):\n",
        "\n",
        "        U_mtx00 = Utils.get_var_node_conv_unitary_matrix(theta0, theta0)\n",
        "        U_gate00 = UnitaryGate(U_mtx00, label=\"$U_{\\\\theta0, \\\\theta0}$\").control(2, ctrl_state='00')\n",
        "        U_gate00_inv = UnitaryGate(np.conj(U_mtx00).T, label=\"$U_{\\\\theta0, \\\\theta0}^{\\dagger}$\").control(2, ctrl_state='00')\n",
        "        U_mtx01 = Utils.get_var_node_conv_unitary_matrix(theta0, theta1)\n",
        "        U_gate01 = UnitaryGate(U_mtx01, label=\"$U_{\\\\theta0, \\\\theta1}$\").control(2, ctrl_state='01')\n",
        "        U_gate01_inv = UnitaryGate(np.conj(U_mtx01).T, label=\"$U_{\\\\theta0, \\\\theta1}^{\\dagger}$\").control(2, ctrl_state='01')\n",
        "        U_mtx10 = Utils.get_var_node_conv_unitary_matrix(theta1, theta0)\n",
        "        U_gate10 = UnitaryGate(U_mtx10, label=\"$U_{\\\\theta1, \\\\theta0}$\").control(2, ctrl_state='10')\n",
        "        U_gate10_inv = UnitaryGate(np.conj(U_mtx10).T, label=\"$U_{\\\\theta1, \\\\theta0}^{\\dagger}$\").control(2, ctrl_state='10')\n",
        "        U_mtx11 = Utils.get_var_node_conv_unitary_matrix(theta1, theta1)\n",
        "        U_gate11 = UnitaryGate(U_mtx11, label=\"$U_{\\\\theta1, \\\\theta1}$\").control(2, ctrl_state='11')\n",
        "        U_gate11_inv = UnitaryGate(np.conj(U_mtx11).T, label=\"$U_{\\\\theta1, \\\\theta1}^{\\dagger}$\").control(2, ctrl_state='11')\n",
        "        if inverse_flag:\n",
        "            qc.append(U_gate11_inv, [qr[3], qr[4], qr[2], qr[1]])            \n",
        "            qc.append(U_gate10_inv, [qr[3], qr[4], qr[2], qr[1]])                        \n",
        "            qc.append(U_gate01_inv, [qr[3], qr[4], qr[2], qr[1]])                        \n",
        "            qc.append(U_gate00_inv, [qr[3], qr[4], qr[2], qr[1]])\n",
        "        else:\n",
        "            qc.append(U_gate00, [qr[3], qr[4], qr[2], qr[1]])\n",
        "            qc.append(U_gate01, [qr[3], qr[4], qr[2], qr[1]])\n",
        "            qc.append(U_gate10, [qr[3], qr[4], qr[2], qr[1]])\n",
        "            qc.append(U_gate11, [qr[3], qr[4], qr[2], qr[1]])\n",
        "\n",
        "        return qc\n",
        "\n",
        "    @staticmethod\n",
        "    def apply_conditional_unitary_gate_V(qc, qr, theta, theta00, inverse_flag=0):\n",
        "\n",
        "        V_mtx00 = Utils.get_var_node_conv_unitary_matrix(theta, theta00)\n",
        "        V_gate00 = UnitaryGate(V_mtx00, label=\"$V_{\\\\theta, \\\\theta00}$\").control(2, ctrl_state='00')\n",
        "        V_gate00_inv = UnitaryGate(np.conj(V_mtx00).T, label=\"$V_{\\\\theta, \\\\theta00}^{\\dagger}$\").control(2, ctrl_state='00')\n",
        "        V_mtx01 = Utils.get_var_node_conv_unitary_matrix(theta, np.pi / 2)\n",
        "        V_gate01 = UnitaryGate(V_mtx01, label=\"$V_{\\\\theta, \\pi/2}$\").control(2, ctrl_state='01')\n",
        "        V_gate01_inv = UnitaryGate(np.conj(V_mtx01).T, label=\"$V_{\\\\theta, \\pi/2}^{\\dagger}$\").control(2, ctrl_state='01')\n",
        "        V_mtx10 = Utils.get_var_node_conv_unitary_matrix(theta, np.pi / 2)\n",
        "        V_gate10 = UnitaryGate(V_mtx10, label=\"$V_{\\\\theta, \\pi/2}$\").control(2, ctrl_state='10')\n",
        "        V_gate10_inv = UnitaryGate(np.conj(V_mtx10).T, label=\"$V_{\\\\theta, \\pi/2}^{\\dagger}$\").control(2, ctrl_state='10')\n",
        "        V_mtx11 = Utils.get_var_node_conv_unitary_matrix(theta, np.pi / 2)\n",
        "        V_gate11 = UnitaryGate(V_mtx11, label=\"$V_{\\\\theta, \\pi/2}$\").control(2, ctrl_state='11')\n",
        "        V_gate11_inv = UnitaryGate(np.conj(V_mtx11).T, label=\"$V_{\\\\theta, \\pi/2}^{\\dagger}$\").control(2, ctrl_state='11')\n",
        "\n",
        "        if inverse_flag:\n",
        "            qc.append(V_gate11_inv, [qr[3], qr[4], qr[1], qr[0]])                        \n",
        "            qc.append(V_gate10_inv, [qr[3], qr[4], qr[1], qr[0]])                        \n",
        "            qc.append(V_gate01_inv, [qr[3], qr[4], qr[1], qr[0]])                      \n",
        "            qc.append(V_gate00_inv, [qr[3], qr[4], qr[1], qr[0]])\n",
        "        else:\n",
        "            qc.append(V_gate00, [qr[3], qr[4], qr[1], qr[0]])\n",
        "            qc.append(V_gate01, [qr[3], qr[4], qr[1], qr[0]])\n",
        "            qc.append(V_gate10, [qr[3], qr[4], qr[1], qr[0]])\n",
        "            qc.append(V_gate11, [qr[3], qr[4], qr[1], qr[0]])\n",
        "\n",
        "        return qc\n",
        "\n",
        "    @staticmethod\n",
        "    def apply_conditional_rotation_K(qc, qr, cr, phi00):\n",
        "\n",
        "        sin_plus_cos = np.cos(phi00 / 2) + np.sin(phi00 / 2)\n",
        "        sin_minus_cos = np.sin(phi00 / 2) - np.cos(phi00 / 2)\n",
        "        cos_minus_sin = np.cos(phi00 / 2) - np.sin(phi00 / 2)\n",
        "        Kp = (1 / np.sqrt(2)) * np.array([[sin_plus_cos, cos_minus_sin],\n",
        "                                          [sin_minus_cos, sin_plus_cos]])\n",
        "        Km = (1 / np.sqrt(2)) * np.array([[sin_plus_cos, sin_minus_cos],\n",
        "                                          [cos_minus_sin, sin_plus_cos]])\n",
        "\n",
        "        Kp_gate = UnitaryGate(Kp, label=\"$K_{+}$\").control(3, ctrl_state='000')\n",
        "        Km_gate = UnitaryGate(Km, label=\"$K_{-}$\").control(3, ctrl_state='001')\n",
        "\n",
        "        qc.x(qr[5]).c_if(cr[0], 1)\n",
        "\n",
        "        qc.append(Kp_gate, [qr[5], qr[4], qr[3], qr[0]])\n",
        "        qc.append(Km_gate, [qr[5], qr[4], qr[3], qr[0]])\n",
        "\n",
        "        return qc\n",
        "\n",
        "    @staticmethod\n",
        "    def apply_conditional_unitary_gate_U2345(qc, theta, qregs=[1, 2]):\n",
        "\n",
        "        U_p_mtx = Utils.get_var_node_conv_unitary_matrix(theta, theta)\n",
        "        U_p = UnitaryGate(U_p_mtx, label=\"$U_{+}$\").control(1, ctrl_state='0')\n",
        "        U_m_mtx = Utils.get_var_node_conv_unitary_matrix(-theta, theta)\n",
        "        U_m = UnitaryGate(U_m_mtx, label=\"$U_{-}$\").control(1, ctrl_state='1')\n",
        "\n",
        "        qc.append(U_p, qregs)\n",
        "        qc.append(U_m, qregs)\n",
        "\n",
        "        return qc\n",
        "\n",
        "    @staticmethod\n",
        "    def get_channel_output(theta=0.5 * 3.142, codeword_idx=2):\n",
        "        # Initialize - get codebook, decoder input\n",
        "        codebook = Utils.get_codebook()\n",
        "        codeword = codebook[codeword_idx]  # choose a codeword from codebook\n",
        "\n",
        "        q_theta_plus = Statevector([np.cos(theta / 2), np.sin(theta / 2)])\n",
        "        q_theta_minus = Statevector([np.cos(theta / 2), -np.sin(theta / 2)])\n",
        "\n",
        "        # Decoder input - statevector\n",
        "        decoder_input = Statevector([1, 0])\n",
        "        for ind in reversed(range(5)):\n",
        "            decoder_input = decoder_input.tensor(q_theta_plus if codeword[ind] == 0 else q_theta_minus)\n",
        "\n",
        "        return decoder_input"
      ],
      "metadata": {
        "id": "FuIrr_kewhhA"
      },
      "execution_count": 49,
      "outputs": []
    },
    {
      "cell_type": "markdown",
      "source": [
        "# `Visualizer`: multi-bloch vector representation, schematic of a quantum circuit.\n",
        "# `Debug`: methods to print, unitary, partial trace."
      ],
      "metadata": {
        "id": "jkqhPy34eMEo"
      }
    },
    {
      "cell_type": "code",
      "source": [
        "class Visualizer():\n",
        "    @staticmethod\n",
        "    def my_plot_statevector(qc, label=\"\", filename=\"\"):\n",
        "        backend1 = Aer.get_backend('statevector_simulator')\n",
        "        job = backend1.run(transpile(qc, backend1))\n",
        "        result = job.result()\n",
        "        outputstate = result.get_statevector(qc)\n",
        "        plot_bloch_multivector(outputstate, title=label, filename=filename)\n",
        "        plt.show()\n",
        "\n",
        "\n",
        "    @staticmethod\n",
        "    def my_plot_statecity(qc, label=\"\"):\n",
        "        backend1 = Aer.get_backend('statevector_simulator')\n",
        "        job = backend1.run(transpile(qc, backend1))\n",
        "        result = job.result()\n",
        "        outputstate = result.get_statevector(qc)\n",
        "        plot_state_city(outputstate, title=label)\n",
        "        plt.show()\n",
        "      \n",
        "    @staticmethod\n",
        "    def print_message(viz_params):\n",
        "        print(f\"Plots are saved in {viz_params['plot_foldername']} folder\")\n",
        "\n",
        "\n",
        "    @staticmethod\n",
        "    def draw_circuit(qc):\n",
        "        qc.draw(output = \"mpl\")\n",
        "        #plt.show()\n",
        "\n",
        "class Debug():\n",
        "    @staticmethod\n",
        "    def print_statevector(qc, label=\"\"):\n",
        "        stv = qi.Statevector.from_instruction(qc)\n",
        "        stv.draw('latex', prefix=label + ':')\n",
        "        return stv\n",
        "\n",
        "    @staticmethod\n",
        "    def get_unitary(qc):\n",
        "        backend1 = Aer.get_backend('unitary_simulator')\n",
        "        job = backend1.run(transpile(qc, backend1))\n",
        "        result = job.result()\n",
        "        unitary_mtx = result.get_unitary(qc)\n",
        "\n",
        "        return unitary_mtx\n",
        "\n",
        "    @staticmethod\n",
        "    def get_partial_trace_density_matrix(qc, subset=[5]):\n",
        "        rho = execute(qc, Aer.get_backend('statevector_simulator')).result().get_statevector()\n",
        "        rho_traced = partial_trace(rho, subset)\n",
        "\n",
        "        return rho_traced\n",
        "    "
      ],
      "metadata": {
        "id": "7f8_PzC2wlEJ"
      },
      "execution_count": 50,
      "outputs": []
    },
    {
      "cell_type": "markdown",
      "source": [
        "$$\\require{physics}$$"
      ],
      "metadata": {
        "id": "jI3O41xqhvF5"
      }
    },
    {
      "cell_type": "markdown",
      "source": [
        "# **BPQM Circuit**\n",
        "Classical data is transmitted over a pure-loss classical-quantum channel (which adds only non-orthogonality as an impairment).\n",
        "### **Pure-state classical-quantum channel**\n",
        "The pure-loss classical-quantum (CQ) channel is defined by the following map: $W:\\{0,1\\} \\rightarrow \\{ \\vert{\\theta} \\rangle \\langle{\\theta}\\vert, \\vert{-\\theta} \\rangle \\langle{-\\theta}\\vert \\}$.\n",
        "$W(x) := \\vert{\\theta}\\rangle \\langle 0 \\vert \\vert x\\rangle \\langle x \\vert  \\vert 0 \\rangle \\langle{\\theta}\\vert + \\vert{-\\theta}\\rangle \\langle 1 \\vert \\vert x \\rangle \\langle x \\vert  \\vert 1 \\rangle \\langle{-\\theta}\\vert $\n",
        "where , and $\\vert{\\pm\\theta\\rangle} = \\cos\\frac{\\theta}{2} \\vert 0\\rangle \\pm \\sin \\frac{\\theta}{2} \\vert{1}\\rangle $ are the non-orthogonal states.\n",
        "\n",
        "### **BPQM Circuit**\n",
        "The BPQM circuit performs belief propagation decoding in 5 stages:\n",
        "#### 1.   **Channel combining operation at FN:**\n",
        "\n",
        "Channel combining operation at a factor node is performed by applying a CNOT gate.\n",
        "\n",
        "*Note: In the quantum circuit figure below (obtained after building quantum circuit), CNOT gates after the first barrier indicate FN channel combining operations.*\n",
        "\n",
        "#### 2.   **Channel combining operation at VN:**\n",
        "\n",
        "$\n",
        "U_{\\circledast}\\left(\\theta', \\theta''\\right):=\\left[\\begin{array}{cccc}a_{+} & 0 & 0 & a_{-} \\\\a_{-} & 0 & 0 & -a_{+} \\\\0 & b_{+} & b_{-} & 0 \\\\0 & b_{-} & -b_{+} & 0\\end{array}\\right],$\n",
        "\n",
        "where \n",
        "$a_{\\pm}:=\\frac{1}{\\sqrt{2}} \\frac{\\cos \\left(\\frac{\\theta'-\\theta''}{2}\\right) \\pm \\cos \\left(\\frac{\\theta'+\\theta''}{2}\\right)}{\\sqrt{1+\\cos \\theta' \\cos \\theta''}}, \\quad b_{\\pm}:=\\frac{1}{\\sqrt{2}} \\frac{\\sin \\left(\\frac{\\theta'+\\theta''}{2}\\right) \\mp \\sin \\left(\\frac{\\theta'-\\theta''}{2}\\right)}{\\sqrt{1-\\cos \\theta' \\cos \\theta''}}$.\n",
        "\n",
        "*Note: In the quantum circuit figure below, unitaries $U_{\\theta0, \\theta0}$ through $V_{\\theta, \\pi/2}$ indicate VN channel combining operations.\n",
        "In the figure, angles are computed as: $cos(\\theta_{0}) = \\left(\\frac{2 cos(\\theta)}{1 + cos(\\theta)^2}\\right)$, \n",
        "$\\theta_1 = \\pi/2$, \n",
        "$cos(\\theta_{00}) = cos(\\theta_0)^2$.*\n",
        "\n",
        "#### 3.   **Measuring q0**\n",
        "q0 is measured in Bell-basis - indicated by a Hadamard gate followed by a measurement in compuational basis.\n",
        "\n",
        "#### 4.   **Undoing measurement and channel combining:**\n",
        "q0 measurement is undone by conditional roations $K_{+}$ and $K_{-}$, conditioned on the q0 measurement being 0 and 1, respectively.\n",
        "\n",
        "$K_{+}:=\\left[\\begin{array}{cc} cos\\frac{\\phi_{00}}{2}+sin\\frac{\\phi_{00}}{2} & cos\\frac{\\phi_{00}}{2}-sin\\frac{\\phi_{00}}{2} \\\\sin\\frac{\\phi_{00}}{2}-cos\\frac{\\phi_{00}}{2} & cos\\frac{\\phi_{00}}{2}+sin\\frac{\\phi_{00}}{2} \\end{array}\\right]$\n",
        "\n",
        "$K_{-}:=\\left[\\begin{array}{cc} cos\\frac{\\phi_{00}}{2}+sin\\frac{\\phi_{00}}{2} & sin\\frac{\\phi_{00}}{2}-cos\\frac{\\phi_{00}}{2} \\\\ cos\\frac{\\phi_{00}}{2}-sin\\frac{\\phi_{00}}{2} & cos\\frac{\\phi_{00}}{2}+sin\\frac{\\phi_{00}}{2} \\end{array}\\right]$\n",
        "\n",
        "*Note: In the quantum circuit figure below, $cos(\\phi_{00}) = cos(\\theta) cos(\\theta_{00})$*.\n",
        "\n",
        "#### 5.   **Decoding q1 to q4:**\n",
        "$(x_2, x_3)$ and $(x_4, x_5)$ can be decoded independently, since they are independent given $x_1$ in the factor graph. This is achieved by applying unitaries (channel combining at VN) on (q1, q2) and (q3, q4), followed by Bell measurements on q2 and q4, respectively.\n"
      ],
      "metadata": {
        "id": "hD4U0PutYL7w"
      }
    },
    {
      "cell_type": "code",
      "source": [
        "class BPQM_Circuit():\n",
        "    def __init__(self, channel_output, theta, viz_params):\n",
        "\n",
        "        self.viz_params = viz_params\n",
        "\n",
        "        codebook = Utils.get_codebook()\n",
        "        self.codeword = codebook[7]\n",
        "\n",
        "        self.theta = theta\n",
        "        self.theta0 = np.arccos(2 * np.cos(theta) / (1 + np.cos(theta) ** 2))\n",
        "        self.theta1 = np.pi / 2\n",
        "        self.theta00 = np.arccos(np.cos(self.theta0) ** 2)\n",
        "\n",
        "        self.cr = ClassicalRegister(3, name=\"c\")\n",
        "        self.qr = QuantumRegister(6, name=\"q\")\n",
        "\n",
        "        self.qc = QuantumCircuit(self.qr, self.cr)\n",
        "        # State preparation - channel outputs (pure-state channel)\n",
        "        print(\"State preparation...\")\n",
        "        self.qc.initialize(channel_output, self.qr)\n",
        "        self.qc.barrier(self.qr)\n",
        "\n",
        "        if self.viz_params['visualize_flag']:\n",
        "            if not os.path.exists(viz_params['plot_foldername']):\n",
        "              os.makedirs(viz_params['plot_foldername'])\n",
        "              print(f\"Folder {viz_params['plot_foldername']} created.\")\n",
        "            Visualizer.my_plot_statevector(self.qc, label=\"decoder input\", filename=self.viz_params['plot_foldername'] + self.viz_params['plot_filename_prefix'] + \"_decoder_input.png\")\n",
        "\n",
        "    def channel_combining_at_FN(self):\n",
        "        print(\"Applying factor node convolution...\")\n",
        "        # Decoding bit 0\n",
        "        self.qc.cnot(self.qr[1], self.qr[2])\n",
        "        self.qc.cnot(self.qr[3], self.qr[4])\n",
        "        self.qc.swap(self.qr[2], self.qr[3])\n",
        "\n",
        "        if self.viz_params['visualize_flag']:\n",
        "            Visualizer.my_plot_statevector(self.qc, label=\"after channel combining at FN (CNOT)\", filename=self.viz_params['plot_foldername'] + self.viz_params['plot_filename_prefix'] + \"_FN_conv.png\")\n",
        "\n",
        "    def channel_combining_at_VN(self):\n",
        "        print(\"Applying variable node convolution...\")\n",
        "        self.qc = Utils.apply_conditional_unitary_gate_U(self.qc, self.qr, self.theta0, self.theta1)\n",
        "        self.qc = Utils.apply_conditional_unitary_gate_V(self.qc, self.qr, self.theta, self.theta00)\n",
        "\n",
        "        if self.viz_params['visualize_flag']:\n",
        "            Visualizer.my_plot_statevector(self.qc, label=\"after channel combining at VN\", filename=self.viz_params['plot_foldername'] + self.viz_params['plot_filename_prefix'] + \"_VN_conv.png\")\n",
        "\n",
        "    def measure_q0(self):\n",
        "        print(\"Measuring q0 in Bell basis...\")\n",
        "        self.qc.h(self.qr[0])\n",
        "        # my_plot_statevector(qc, label=\"before measuring q0\")\n",
        "        self.qc.measure(self.qr[0], self.cr[0])\n",
        "        self.qc.barrier(self.qr)\n",
        "\n",
        "        if self.viz_params['visualize_flag']:\n",
        "            Visualizer.my_plot_statevector(self.qc, label=\"after meas. q0\",\n",
        "                                       filename=self.viz_params['plot_foldername'] + self.viz_params['plot_filename_prefix'] + \"_meas_q0.png\")\n",
        "\n",
        "    def undo_measure_q0(self):\n",
        "        print(\"Undoing q0 measurement...\")\n",
        "        self.qc.h(self.qr[0])\n",
        "        phi00 = np.arccos(np.cos(self.theta) * np.cos(self.theta00))\n",
        "        self.qc = Utils.apply_conditional_rotation_K(self.qc, self.qr, self.cr, phi00)\n",
        "\n",
        "    def undo_unitaries(self):\n",
        "        print(\"Undoing channel combining...\")\n",
        "        # # Adj of unitaries - reverse order\n",
        "        self.qc = Utils.apply_conditional_unitary_gate_V(self.qc, self.qr, self.theta0, self.theta00, inverse_flag=1)\n",
        "        self.qc = Utils.apply_conditional_unitary_gate_U(self.qc, self.qr, self.theta0, self.theta1, inverse_flag=1)\n",
        "        self.qc.swap(self.qr[2], self.qr[3])\n",
        "        self.qc.cnot(self.qr[3], self.qr[4])\n",
        "        self.qc.cnot(self.qr[1], self.qr[2])\n",
        "        self.qc.barrier(self.qr)\n",
        "\n",
        "        if self.viz_params['visualize_flag']:\n",
        "            Visualizer.my_plot_statevector(self.qc, label=\"revert to chan out\",\n",
        "                                       filename=self.viz_params['plot_foldername'] + self.viz_params['plot_filename_prefix'] + \"_revert.png\")\n",
        "\n",
        "    def decode_qubit_2_to_5(self):\n",
        "        print(\"Decoding qubits q1 - q4...\")\n",
        "        # Decoding bit 2-5\n",
        "        self.qc = Utils.apply_conditional_unitary_gate_U2345(self.qc, self.theta,\n",
        "                                                             qregs=[self.qr[5], self.qr[1], self.qr[2]])\n",
        "        self.qc = Utils.apply_conditional_unitary_gate_U2345(self.qc, self.theta,\n",
        "                                                             qregs=[self.qr[5], self.qr[3], self.qr[4]])\n",
        "\n",
        "        self.qc.h(self.qr[2])\n",
        "        self.qc.h(self.qr[4])\n",
        "\n",
        "        self.qc.measure(self.qr[2], self.cr[1])\n",
        "        self.qc.measure(self.qr[4], self.cr[2])\n",
        "\n",
        "        if self.viz_params['visualize_flag']:\n",
        "            Visualizer.my_plot_statevector(self.qc, label=\"after meas. qubits 2 and 4\",\n",
        "                                       filename=self.viz_params['plot_foldername'] + self.viz_params['plot_filename_prefix'] + \"_meas_q2_q4.png\")\n",
        "\n",
        "    def simulate(self):\n",
        "        print(\"Running statevector simulator...\")\n",
        "        backend2 = Aer.get_backend('statevector_simulator')\n",
        "        self.qc_compiled = transpile(self.qc, backend2)\n",
        "        job_sim = backend2.run(self.qc_compiled, shots=1024)\n",
        "        self.sim_result = job_sim.result()\n"
      ],
      "metadata": {
        "id": "d30uPeFIwaaQ"
      },
      "execution_count": 51,
      "outputs": []
    },
    {
      "cell_type": "markdown",
      "source": [
        "## **Build a quantum circuit for BPQM.**"
      ],
      "metadata": {
        "id": "UereD-b6lM6w"
      }
    },
    {
      "cell_type": "code",
      "source": [
        "theta_mult = 0.6\n",
        "theta = theta_mult * np.pi / 2\n",
        "codeword_idx = 1\n",
        "\n",
        "viz_params = {'visualize_flag': False,\n",
        "              'plot_foldername': \"plots/\",\n",
        "              'plot_filename_prefix': \"th\" + str(theta_mult) + \"_cwd\" + str(codeword_idx)}\n",
        "\n",
        "\n",
        "decoder_input = Utils.get_channel_output(theta=theta, codeword_idx=codeword_idx)\n",
        "\n",
        "bpqm_ckt = BPQM_Circuit(decoder_input, theta, viz_params)\n",
        "\n",
        "bpqm_ckt.channel_combining_at_FN()\n",
        "\n",
        "bpqm_ckt.channel_combining_at_VN()\n",
        "\n",
        "bpqm_ckt.measure_q0()\n",
        "\n",
        "bpqm_ckt.undo_measure_q0()\n",
        "bpqm_ckt.undo_unitaries()\n",
        "\n",
        "bpqm_ckt.decode_qubit_2_to_5()\n",
        "\n",
        "bpqm_ckt.qc.draw(output=\"mpl\", scale=0.5)"
      ],
      "metadata": {
        "colab": {
          "base_uri": "https://localhost:8080/",
          "height": 912
        },
        "id": "JBWcH6TLwpHw",
        "outputId": "e8048d61-6152-4d08-a96f-ad9f9b64725d"
      },
      "execution_count": 52,
      "outputs": [
        {
          "output_type": "stream",
          "name": "stdout",
          "text": [
            "State preparation...\n",
            "Applying factor node convolution...\n",
            "Applying variable node convolution...\n",
            "Measuring q0 in Bell basis...\n",
            "Undoing q0 measurement...\n",
            "Undoing channel combining...\n",
            "Decoding qubits q1 - q4...\n"
          ]
        },
        {
          "output_type": "execute_result",
          "data": {
            "text/plain": [
              "<Figure size 1105.28x978.25 with 1 Axes>"
            ],
            "image/png": "[encoded data removed]"
          },
          "metadata": {},
          "execution_count": 52
        }
      ]
    },
    {
      "cell_type": "markdown",
      "source": [
        "## **Measurement statistics.**"
      ],
      "metadata": {
        "id": "Ya8kv8PMliIz"
      }
    },
    {
      "cell_type": "code",
      "source": [
        "bpqm_ckt.simulate()\n",
        "counts = bpqm_ckt.sim_result.get_counts(bpqm_ckt.qc_compiled)\n",
        "\n",
        "# Measurement statistics\n",
        "codeword = Utils.get_codebook()[codeword_idx]\n",
        "plot_histogram(counts, title=f\"$c_0 c_1 c_3 = ${codeword[3]}{codeword[1]}{codeword[0]},  $\\\\theta$ = {theta_mult} $\\pi/2$\")"
      ],
      "metadata": {
        "colab": {
          "base_uri": "https://localhost:8080/",
          "height": 514
        },
        "id": "ZYZ3-JU8O-Zz",
        "outputId": "73a08f53-afe4-43cb-9546-abcff74b3e5d"
      },
      "execution_count": 53,
      "outputs": [
        {
          "output_type": "stream",
          "name": "stdout",
          "text": [
            "Running statevector simulator...\n"
          ]
        },
        {
          "output_type": "execute_result",
          "data": {
            "text/plain": [
              "<Figure size 700x500 with 1 Axes>"
            ],
            "image/png": "[encoded data removed]"
          },
          "metadata": {},
          "execution_count": 53
        }
      ]
    }
  ]
}